{
 "cells": [
  {
   "cell_type": "markdown",
   "id": "serious-pressing",
   "metadata": {},
   "source": [
    "# CWE Data\n",
    "---"
   ]
  },
  {
   "cell_type": "code",
   "execution_count": 1,
   "id": "91b44dc2",
   "metadata": {
    "execution": {
     "iopub.execute_input": "2024-11-05T04:30:21.131376Z",
     "iopub.status.busy": "2024-11-05T04:30:21.131207Z",
     "iopub.status.idle": "2024-11-05T04:30:21.753608Z",
     "shell.execute_reply": "2024-11-05T04:30:21.753005Z"
    },
    "tags": [
     "remove-cell"
    ]
   },
   "outputs": [
    {
     "data": {
      "text/html": [
       "<script>\n",
       "    let is_dark_theme = function () {\n",
       "        // Jupyter Lab\n",
       "        if ('jpThemeLight' in document.body.dataset)\n",
       "            return (document.body.dataset.jpThemeLight === \"false\");\n",
       "\n",
       "        // VS Code\n",
       "        if ('vscodeThemeKind' in document.body.dataset)\n",
       "            return document.body.dataset.vscodeThemeKind.includes('dark');\n",
       "\n",
       "        // Jupyter Book\n",
       "        if ('theme' in document.documentElement.dataset)\n",
       "            return document.documentElement.dataset.theme.includes('dark');\n",
       "\n",
       "        // Default\n",
       "        return window.matchMedia('(prefers-color-scheme: dark)').matches;\n",
       "    }\n",
       "\n",
       "    if (is_dark_theme()) {\n",
       "        document.documentElement.classList.add('dark');\n",
       "    }\n",
       "    else {\n",
       "        document.documentElement.classList.remove('dark');\n",
       "    }\n",
       "</script>\n"
      ],
      "text/plain": [
       "<IPython.core.display.HTML object>"
      ]
     },
     "metadata": {},
     "output_type": "display_data"
    }
   ],
   "source": [
    "from IPython.core.magic import register_cell_magic\n",
    "from IPython.display import Markdown\n",
    "import datetime\n",
    "from datetime import date\n",
    "import glob\n",
    "import json\n",
    "import logging\n",
    "import matplotlib.pyplot as plt\n",
    "import numpy as np\n",
    "import pandas as pd\n",
    "import plotly\n",
    "import warnings\n",
    "import calplot\n",
    "from itables import init_notebook_mode, show\n",
    "import itables.options as opt\n",
    "\n",
    "\n",
    "opt.dom = \"tpir\" \n",
    "opt.style = \"table-layout:auto;width:auto\"\n",
    "init_notebook_mode(all_interactive=True, connected=True)\n",
    "\n",
    "@register_cell_magic\n",
    "def markdown(line, cell):\n",
    "    return Markdown(cell.format(**globals()))\n",
    "\n",
    "\n",
    "logging.getLogger('matplotlib.font_manager').disabled = True\n",
    "warnings.filterwarnings(\"ignore\")\n",
    "pd.set_option('display.width', 500)\n",
    "pd.set_option('display.max_rows', 50)\n",
    "pd.set_option('display.max_columns', 10)"
   ]
  },
  {
   "cell_type": "code",
   "execution_count": 2,
   "id": "98bafc2f-2e20-4032-a091-ec2dc0ecb7a5",
   "metadata": {
    "execution": {
     "iopub.execute_input": "2024-11-05T04:30:21.755573Z",
     "iopub.status.busy": "2024-11-05T04:30:21.755348Z",
     "iopub.status.idle": "2024-11-05T04:30:41.833827Z",
     "shell.execute_reply": "2024-11-05T04:30:41.833258Z"
    },
    "tags": [
     "remove-cell"
    ]
   },
   "outputs": [],
   "source": [
    "row_accumulator = []\n",
    "for filename in glob.glob('nvd.jsonl'):\n",
    "    with open(filename, 'r', encoding='utf-8') as f:\n",
    "        nvd_data = json.load(f)\n",
    "        for entry in nvd_data:\n",
    "            cve = entry['cve']['id']\n",
    "            try:\n",
    "                assigner = entry['cve']['sourceIdentifier']\n",
    "            except KeyError:\n",
    "                assigner = 'Missing_Data'\n",
    "            try:\n",
    "                published_date = entry['cve']['published']\n",
    "            except KeyError:\n",
    "                published_date = 'Missing_Data'\n",
    "            try:\n",
    "                attack_vector = entry['cve']['metrics']['cvssMetricV31'][0]['cvssData']['attackVector']\n",
    "            except KeyError:\n",
    "                attack_vector = 'Missing_Data'\n",
    "            try:\n",
    "                attack_complexity = entry['cve']['metrics']['cvssMetricV31'][0]['cvssData']['attackComplexity']\n",
    "            except KeyError:\n",
    "                attack_complexity = 'Missing_Data'\n",
    "            try:\n",
    "                privileges_required = entry['cve']['metrics']['cvssMetricV31'][0]['cvssData']['privilegesRequired']\n",
    "            except KeyError:\n",
    "                privileges_required = 'Missing_Data'\n",
    "            try:\n",
    "                user_interaction = entry['cve']['metrics']['cvssMetricV31'][0]['cvssData']['userInteraction']\n",
    "            except KeyError:\n",
    "                user_interaction = 'Missing_Data'\n",
    "            try:\n",
    "                scope = entry['cve']['metrics']['cvssMetricV31'][0]['cvssData']['scope']\n",
    "            except KeyError:\n",
    "                scope = 'Missing_Data'\n",
    "            try:\n",
    "                confidentiality_impact = entry['cve']['metrics']['cvssMetricV31'][0]['cvssData']['confidentialityImpact']\n",
    "            except KeyError:\n",
    "                confidentiality_impact = 'Missing_Data'\n",
    "            try:\n",
    "                integrity_impact = entry['cve']['metrics']['cvssMetricV31'][0]['cvssData']['integrityImpact']\n",
    "            except KeyError:\n",
    "                integrity_impact = 'Missing_Data'\n",
    "            try:\n",
    "                availability_impact = entry['cve']['metrics']['cvssMetricV31'][0]['cvssData']['availabilityImpact']\n",
    "            except KeyError:\n",
    "                availability_impact = 'Missing_Data'\n",
    "            try:\n",
    "                base_score = entry['cve']['metrics']['cvssMetricV31'][0]['cvssData']['baseScore']\n",
    "            except KeyError:\n",
    "                base_score = '0.0'\n",
    "            try:\n",
    "                base_severity = entry['cve']['metrics']['cvssMetricV31'][0]['cvssData']['baseSeverity']\n",
    "            except KeyError:\n",
    "                base_severity = 'Missing_Data'\n",
    "            try:\n",
    "                exploitability_score = entry['cve']['metrics']['cvssMetricV31'][0]['exploitabilityScore']\n",
    "            except KeyError:\n",
    "                exploitability_score = 'Missing_Data'\n",
    "            try:\n",
    "                impact_score = entry['cve']['metrics']['cvssMetricV31'][0]['impactScore']\n",
    "            except KeyError:\n",
    "                impact_score = 'Missing_Data'\n",
    "            try:\n",
    "                cwe = entry['cve']['weaknesses'][0]['description'][0]['value']\n",
    "            except KeyError:\n",
    "                cwe = 'Missing_Data'\n",
    "            try:\n",
    "                description = entry['cve']['descriptions'][0]['value']\n",
    "            except IndexError:\n",
    "                description = ''\n",
    "            new_row = {\n",
    "                'CVE': cve,\n",
    "                'Published': published_date,\n",
    "                'AttackVector': attack_vector,\n",
    "                'AttackComplexity': attack_complexity,\n",
    "                'PrivilegesRequired': privileges_required,\n",
    "                'UserInteraction': user_interaction,\n",
    "                'Scope': scope,\n",
    "                'ConfidentialityImpact': confidentiality_impact,\n",
    "                'IntegrityImpact': integrity_impact,\n",
    "                'AvailabilityImpact': availability_impact,\n",
    "                'BaseScore': base_score,\n",
    "                'BaseSeverity': base_severity,\n",
    "                'ExploitabilityScore': exploitability_score,\n",
    "                'ImpactScore': impact_score,\n",
    "                'CWE': cwe,\n",
    "                'Description': description,\n",
    "                'Assigner' : assigner\n",
    "            }\n",
    "            if not description.startswith('rejected reason'): \n",
    "                row_accumulator.append(new_row)\n",
    "        nvd = pd.DataFrame(row_accumulator)\n",
    "        \n",
    "nvd['Published'] = pd.to_datetime(nvd['Published'])\n",
    "nvd = nvd.sort_values(by=['Published'])\n",
    "nvd = nvd.reset_index(drop=True)\n",
    "nvd['BaseScore'] = pd.to_numeric(nvd['BaseScore']);\n",
    "nvd['BaseScore'] = pd.to_numeric(nvd['BaseScore']);\n",
    "nvd['BaseScore'] = nvd['BaseScore'].replace(0, np.nan);\n",
    "nvdcount = nvd['Published'].count()\n",
    "nvdunique = nvd['Published'].nunique()\n",
    "startdate = date(2000, 1, 1)\n",
    "enddate  = date.today()\n",
    "numberofdays = enddate - startdate \n",
    "per_day = nvdcount/numberofdays.days"
   ]
  },
  {
   "cell_type": "markdown",
   "id": "aa3ea191",
   "metadata": {
    "tags": [
     "hide-input"
    ]
   },
   "source": [
    "\n",
    "\n",
    "## CWE Data"
   ]
  },
  {
   "cell_type": "code",
   "execution_count": 3,
   "id": "6815f0a1",
   "metadata": {
    "execution": {
     "iopub.execute_input": "2024-11-05T04:30:41.836052Z",
     "iopub.status.busy": "2024-11-05T04:30:41.835694Z",
     "iopub.status.idle": "2024-11-05T04:30:42.102769Z",
     "shell.execute_reply": "2024-11-05T04:30:42.102293Z"
    },
    "tags": [
     "remove-input"
    ]
   },
   "outputs": [
    {
     "data": {
      "image/png": "[encoded data removed]",
      "text/plain": [
       "<Figure size 1000x1000 with 1 Axes>"
      ]
     },
     "metadata": {},
     "output_type": "display_data"
    }
   ],
   "source": [
    "nvd_cwe = nvd['CWE'].value_counts()\n",
    "nvd_cwe = nvd_cwe.reset_index()\n",
    "nvd_cwe.columns = ['CWE', 'CVEs']\n",
    "nvd_cwe_graph = nvd_cwe[nvd_cwe.CVEs > 100].head(25)\n",
    "plt.figure(figsize=(10,10));\n",
    "plt.barh(\"CWE\", \"CVEs\", data = nvd_cwe_graph, color=\"#001d82\");\n",
    "plt.xlabel(\"CVEs\"); \n",
    "plt.ylabel(\"CWE\") ;\n",
    "plt.title(\"Most Common CWE in CVE Records\");\n"
   ]
  },
  {
   "cell_type": "code",
   "execution_count": 4,
   "id": "04a26e54",
   "metadata": {
    "execution": {
     "iopub.execute_input": "2024-11-05T04:30:42.104751Z",
     "iopub.status.busy": "2024-11-05T04:30:42.104407Z",
     "iopub.status.idle": "2024-11-05T04:30:42.111862Z",
     "shell.execute_reply": "2024-11-05T04:30:42.111438Z"
    },
    "tags": [
     "remove-input"
    ]
   },
   "outputs": [
    {
     "data": {
      "text/html": [
       "<table id=\"itables_1a2f9b9f_fadf_41dd_b709_51d1cc46633a\" class=\"display nowrap\" data-quarto-disable-processing=\"true\" style=\"table-layout:auto;width:auto\">\n",
       "<thead>\n",
       "    <tr style=\"text-align: right;\">\n",
       "      \n",
       "      <th>CWE</th>\n",
       "      <th>CVEs</th>\n",
       "    </tr>\n",
       "  </thead><tbody><tr>\n",
       "<td style=\"vertical-align:middle; text-align:left\">\n",
       "<div style=\"float:left; margin-right: 10px;\">\n",
       "<a href=https://mwouts.github.io/itables/><svg class=\"main-svg\" xmlns=\"http://www.w3.org/2000/svg\" xmlns:xlink=\"http://www.w3.org/1999/xlink\"\n",
       "width=\"64\" viewBox=\"0 0 500 400\" style=\"font-family: 'Droid Sans', sans-serif;\">\n",
       "    <g style=\"fill:#d9d7fc\">\n",
       "        <path d=\"M100,400H500V357H100Z\" />\n",
       "        <path d=\"M100,300H400V257H100Z\" />\n",
       "        <path d=\"M0,200H400V157H0Z\" />\n",
       "        <path d=\"M100,100H500V57H100Z\" />\n",
       "        <path d=\"M100,350H500V307H100Z\" />\n",
       "        <path d=\"M100,250H400V207H100Z\" />\n",
       "        <path d=\"M0,150H400V107H0Z\" />\n",
       "        <path d=\"M100,50H500V7H100Z\" />\n",
       "    </g>\n",
       "    <g style=\"fill:#1a1366;stroke:#1a1366;\">\n",
       "   <rect x=\"100\" y=\"7\" width=\"400\" height=\"43\">\n",
       "    <animate\n",
       "      attributeName=\"width\"\n",
       "      values=\"0;400;0\"\n",
       "      dur=\"5s\"\n",
       "      repeatCount=\"indefinite\" />\n",
       "      <animate\n",
       "      attributeName=\"x\"\n",
       "      values=\"100;100;500\"\n",
       "      dur=\"5s\"\n",
       "      repeatCount=\"indefinite\" />\n",
       "  </rect>\n",
       "        <rect x=\"0\" y=\"107\" width=\"400\" height=\"43\">\n",
       "    <animate\n",
       "      attributeName=\"width\"\n",
       "      values=\"0;400;0\"\n",
       "      dur=\"3.5s\"\n",
       "      repeatCount=\"indefinite\" />\n",
       "    <animate\n",
       "      attributeName=\"x\"\n",
       "      values=\"0;0;400\"\n",
       "      dur=\"3.5s\"\n",
       "      repeatCount=\"indefinite\" />\n",
       "  </rect>\n",
       "        <rect x=\"100\" y=\"207\" width=\"300\" height=\"43\">\n",
       "    <animate\n",
       "      attributeName=\"width\"\n",
       "      values=\"0;300;0\"\n",
       "      dur=\"3s\"\n",
       "      repeatCount=\"indefinite\" />\n",
       "    <animate\n",
       "      attributeName=\"x\"\n",
       "      values=\"100;100;400\"\n",
       "      dur=\"3s\"\n",
       "      repeatCount=\"indefinite\" />\n",
       "  </rect>\n",
       "        <rect x=\"100\" y=\"307\" width=\"400\" height=\"43\">\n",
       "    <animate\n",
       "      attributeName=\"width\"\n",
       "      values=\"0;400;0\"\n",
       "      dur=\"4s\"\n",
       "      repeatCount=\"indefinite\" />\n",
       "      <animate\n",
       "      attributeName=\"x\"\n",
       "      values=\"100;100;500\"\n",
       "      dur=\"4s\"\n",
       "      repeatCount=\"indefinite\" />\n",
       "  </rect>\n",
       "        <g style=\"fill:transparent;stroke-width:8; stroke-linejoin:round\" rx=\"5\">\n",
       "            <g transform=\"translate(45 50) rotate(-45)\">\n",
       "                <circle r=\"33\" cx=\"0\" cy=\"0\" />\n",
       "                <rect x=\"-8\" y=\"32\" width=\"16\" height=\"30\" />\n",
       "            </g>\n",
       "\n",
       "            <g transform=\"translate(450 152)\">\n",
       "                <polyline points=\"-15,-20 -35,-20 -35,40 25,40 25,20\" />\n",
       "                <rect x=\"-15\" y=\"-40\" width=\"60\" height=\"60\" />\n",
       "            </g>\n",
       "\n",
       "            <g transform=\"translate(50 352)\">\n",
       "                <polygon points=\"-35,-5 0,-40 35,-5\" />\n",
       "                <polygon points=\"-35,10 0,45 35,10\" />\n",
       "            </g>\n",
       "\n",
       "            <g transform=\"translate(75 250)\">\n",
       "                <polyline points=\"-30,30 -60,0 -30,-30\" />\n",
       "                <polyline points=\"0,30 -30,0 0,-30\" />\n",
       "            </g>\n",
       "\n",
       "            <g transform=\"translate(425 250) rotate(180)\">\n",
       "                <polyline points=\"-30,30 -60,0 -30,-30\" />\n",
       "                <polyline points=\"0,30 -30,0 0,-30\" />\n",
       "            </g>\n",
       "        </g>\n",
       "    </g>\n",
       "</svg>\n",
       "</a>\n",
       "</div>\n",
       "<div>\n",
       "Loading ITables v2.2.3 from the internet...\n",
       "(need <a href=https://mwouts.github.io/itables/troubleshooting.html>help</a>?)</td>\n",
       "</div>\n",
       "</tr></tbody>\n",
       "</table>\n",
       "<link href=\"https://www.unpkg.com/dt_for_itables@2.0.13/dt_bundle.css\" rel=\"stylesheet\">\n",
       "<script type=\"module\">\n",
       "    import {DataTable, jQuery as $} from 'https://www.unpkg.com/dt_for_itables@2.0.13/dt_bundle.js';\n",
       "\n",
       "    document.querySelectorAll(\"#itables_1a2f9b9f_fadf_41dd_b709_51d1cc46633a:not(.dataTable)\").forEach(table => {\n",
       "        if (!(table instanceof HTMLTableElement))\n",
       "            return;\n",
       "\n",
       "        // Define the table data\n",
       "        const data = [[\"CWE-79\", 29734], [\"NVD-CWE-Other\", 28976], [\"NVD-CWE-noinfo\", 28858], [\"Missing_Data\", 21073], [\"CWE-89\", 12770], [\"CWE-119\", 11557], [\"CWE-787\", 10033], [\"CWE-20\", 9386], [\"CWE-200\", 7070], [\"CWE-22\", 6403], [\"CWE-125\", 6248], [\"CWE-352\", 6133], [\"CWE-264\", 5126], [\"CWE-416\", 4479], [\"CWE-78\", 3691], [\"CWE-94\", 3414], [\"CWE-287\", 3286], [\"CWE-862\", 2973], [\"CWE-476\", 2826], [\"CWE-434\", 2518], [\"CWE-399\", 2491], [\"CWE-120\", 2427], [\"CWE-310\", 2406], [\"CWE-190\", 2299], [\"CWE-77\", 1699], [\"CWE-269\", 1613], [\"CWE-400\", 1465], [\"CWE-362\", 1460], [\"CWE-863\", 1454], [\"CWE-502\", 1372], [\"CWE-284\", 1347], [\"CWE-798\", 1236], [\"CWE-732\", 1200], [\"CWE-189\", 1198], [\"CWE-918\", 1184], [\"CWE-306\", 1159], [\"CWE-59\", 1056], [\"CWE-295\", 1018], [\"CWE-611\", 1010], [\"CWE-601\", 1004], [\"CWE-276\", 944], [\"CWE-522\", 931], [\"CWE-74\", 876], [\"CWE-121\", 822], [\"CWE-770\", 808], [\"CWE-532\", 761], [\"CWE-427\", 742], [\"CWE-255\", 705], [\"CWE-401\", 685], [\"CWE-319\", 608], [\"CWE-639\", 604], [\"CWE-668\", 600], [\"CWE-835\", 567], [\"CWE-312\", 560], [\"CWE-203\", 540], [\"CWE-415\", 488], [\"CWE-755\", 472], [\"CWE-426\", 467], [\"CWE-617\", 451], [\"CWE-327\", 441], [\"CWE-122\", 420], [\"CWE-843\", 403], [\"CWE-347\", 400], [\"CWE-772\", 397], [\"CWE-254\", 382], [\"CWE-345\", 359], [\"CWE-307\", 358], [\"CWE-129\", 355], [\"CWE-326\", 355], [\"CWE-908\", 348], [\"CWE-1321\", 342], [\"CWE-209\", 341], [\"CWE-134\", 331], [\"CWE-754\", 327], [\"CWE-367\", 319], [\"CWE-369\", 316], [\"CWE-613\", 313], [\"CWE-404\", 294], [\"CWE-384\", 289], [\"CWE-330\", 288], [\"CWE-665\", 280], [\"CWE-311\", 276], [\"CWE-1021\", 276], [\"CWE-290\", 268], [\"CWE-552\", 263], [\"CWE-16\", 260], [\"CWE-1333\", 257], [\"CWE-674\", 243], [\"CWE-346\", 241], [\"CWE-667\", 235], [\"CWE-116\", 223], [\"CWE-1236\", 222], [\"CWE-19\", 221], [\"CWE-704\", 216], [\"CWE-191\", 210], [\"CWE-824\", 208], [\"CWE-444\", 206], [\"CWE-281\", 205], [\"CWE-88\", 205], [\"CWE-428\", 184], [\"CWE-521\", 183], [\"CWE-1188\", 169], [\"CWE-17\", 165], [\"CWE-917\", 163], [\"CWE-425\", 162], [\"CWE-640\", 161], [\"CWE-285\", 160], [\"CWE-610\", 158], [\"CWE-922\", 150], [\"CWE-294\", 142], [\"CWE-1284\", 129], [\"CWE-459\", 117], [\"CWE-829\", 116], [\"CWE-193\", 115], [\"CWE-252\", 110], [\"CWE-697\", 110], [\"CWE-354\", 106], [\"CWE-494\", 104], [\"CWE-131\", 97], [\"CWE-338\", 94], [\"CWE-682\", 93], [\"CWE-91\", 81], [\"CWE-670\", 79], [\"CWE-834\", 77], [\"CWE-916\", 76], [\"CWE-331\", 74], [\"CWE-909\", 73], [\"CWE-266\", 71], [\"CWE-212\", 70], [\"CWE-681\", 70], [\"CWE-80\", 66], [\"CWE-275\", 66], [\"CWE-693\", 65], [\"CWE-763\", 65], [\"CWE-707\", 64], [\"CWE-436\", 63], [\"CWE-288\", 61], [\"CWE-126\", 58], [\"CWE-776\", 56], [\"CWE-706\", 53], [\"CWE-669\", 50], [\"CWE-250\", 50], [\"CWE-749\", 50], [\"CWE-662\", 49], [\"CWE-73\", 48], [\"CWE-321\", 45], [\"CWE-565\", 44], [\"CWE-913\", 44], [\"CWE-93\", 43], [\"CWE-259\", 42], [\"CWE-256\", 41], [\"CWE-23\", 40], [\"CWE-178\", 38], [\"CWE-457\", 34], [\"CWE-358\", 33], [\"CWE-388\", 33], [\"CWE-672\", 33], [\"CWE-320\", 31], [\"CWE-822\", 31], [\"CWE-335\", 29], [\"CWE-359\", 28], [\"CWE-470\", 27], [\"CWE-248\", 26], [\"CWE-29\", 26], [\"CWE-117\", 26], [\"CWE-113\", 26], [\"CWE-98\", 24], [\"CWE-305\", 24], [\"CWE-280\", 23], [\"CWE-273\", 23], [\"CWE-24\", 23], [\"CWE-204\", 22], [\"CWE-201\", 21], [\"CWE-497\", 21], [\"CWE-123\", 20], [\"CWE-924\", 19], [\"CWE-788\", 19], [\"CWE-407\", 18], [\"CWE-377\", 18], [\"CWE-36\", 18], [\"CWE-208\", 18], [\"CWE-912\", 18], [\"CWE-184\", 17], [\"CWE-1336\", 17], [\"CWE-799\", 16], [\"CWE-90\", 16], [\"CWE-1392\", 16], [\"CWE-538\", 15], [\"CWE-197\", 15], [\"CWE-95\", 15], [\"CWE-303\", 15], [\"CWE-417\", 14], [\"CWE-277\", 14], [\"CWE-130\", 14], [\"CWE-35\", 14], [\"CWE-940\", 14], [\"CWE-489\", 13], [\"CWE-75\", 13], [\"CWE-118\", 13], [\"CWE-703\", 12], [\"CWE-789\", 12], [\"CWE-472\", 12], [\"CWE-257\", 12], [\"CWE-185\", 12], [\"CWE-297\", 12], [\"CWE-823\", 12], [\"CWE-680\", 11], [\"CWE-1220\", 11], [\"CWE-840\", 11], [\"CWE-385\", 11], [\"CWE-1286\", 11], [\"CWE-1287\", 11], [\"CWE-61\", 11], [\"CWE-451\", 10], [\"CWE-378\", 10], [\"CWE-1391\", 10], [\"CWE-648\", 10], [\"CWE-170\", 10], [\"CWE-15\", 10], [\"CWE-172\", 9], [\"CWE-202\", 9], [\"CWE-440\", 9], [\"CWE-150\", 9], [\"CWE-99\", 9], [\"CWE-379\", 9], [\"CWE-1288\", 9], [\"CWE-92\", 9], [\"CWE-272\", 8], [\"CWE-620\", 8], [\"CWE-614\", 8], [\"CWE-31\", 8], [\"CWE-942\", 8], [\"CWE-395\", 8], [\"CWE-1263\", 8], [\"CWE-406\", 8], [\"CWE-926\", 8], [\"CWE-332\", 8], [\"CWE-300\", 8], [\"CWE-441\", 8], [\"CWE-524\", 7], [\"CWE-927\", 7], [\"CWE-523\", 7], [\"CWE-923\", 7], [\"CWE-324\", 7], [\"CWE-548\", 7], [\"CWE-1390\", 7], [\"CWE-267\", 7], [\"CWE-323\", 7], [\"CWE-405\", 7], [\"CWE-361\", 7], [\"CWE-698\", 7], [\"CWE-783\", 7], [\"CWE-838\", 7], [\"CWE-316\", 7], [\"CWE-525\", 7], [\"CWE-76\", 7], [\"CWE-602\", 7], [\"CWE-261\", 6], [\"CWE-229\", 6], [\"CWE-805\", 6], [\"CWE-471\", 6], [\"CWE-199\", 6], [\"CWE-18\", 6], [\"CWE-664\", 6], [\"CWE-115\", 6], [\"CWE-644\", 6], [\"CWE-349\", 6], [\"CWE-286\", 5], [\"CWE-282\", 5], [\"CWE-241\", 5], [\"CWE-1320\", 5], [\"CWE-274\", 5], [\"CWE-302\", 5], [\"CWE-328\", 5], [\"CWE-592\", 5], [\"CWE-460\", 5], [\"CWE-26\", 5], [\"CWE-530\", 5], [\"CWE-268\", 5], [\"CWE-353\", 5], [\"CWE-488\", 5], [\"CWE-27\", 5], [\"CWE-233\", 5], [\"CWE-1393\", 5], [\"CWE-289\", 5], [\"CWE-691\", 5], [\"CWE-228\", 5], [\"CWE-598\", 5], [\"CWE-696\", 4], [\"CWE-643\", 4], [\"CWE-821\", 4], [\"CWE-920\", 4], [\"CWE-348\", 4], [\"CWE-1325\", 4], [\"CWE-279\", 4], [\"CWE-409\", 4], [\"CWE-591\", 4], [\"CWE-1394\", 4], [\"CWE-778\", 4], [\"CWE-350\", 4], [\"CWE-825\", 4], [\"CWE-1240\", 4], [\"CWE-1295\", 4], [\"CWE-757\", 4], [\"CWE-603\", 4], [\"CWE-313\", 4], [\"CWE-1385\", 4], [\"CWE-213\", 4], [\"CWE-807\", 4], [\"CWE-420\", 4], [\"CWE-1285\", 4], [\"CWE-540\", 4], [\"CWE-304\", 4], [\"CWE-424\", 4], [\"CWE-606\", 4], [\"CWE-782\", 4], [\"CWE-842\", 3], [\"CWE-690\", 3], [\"CWE-1258\", 3], [\"CWE-833\", 3], [\"CWE-911\", 3], [\"CWE-253\", 3], [\"CWE-270\", 3], [\"CWE-657\", 3], [\"CWE-547\", 3], [\"CWE-124\", 3], [\"CWE-283\", 3], [\"CWE-87\", 3], [\"CWE-526\", 3], [\"CWE-278\", 3], [\"CWE-841\", 3], [\"CWE-636\", 3], [\"CWE-915\", 3], [\"CWE-258\", 3], [\"CWE-308\", 3], [\"CWE-1270\", 3], [\"CWE-830\", 3], [\"CWE-1386\", 3], [\"CWE-231\", 3], [\"CWE-112\", 3], [\"CWE-271\", 3], [\"CWE-291\", 3], [\"CWE-676\", 3], [\"CWE-226\", 3], [\"CWE-1327\", 3], [\"CWE-21\", 3], [\"CWE-1187\", 3], [\"CWE-1357\", 3], [\"CWE-653\", 3], [\"CWE-390\", 3], [\"CWE-642\", 3], [\"CWE-41\", 3], [\"CWE-1191\", 3], [\"CWE-176\", 3], [\"CWE-325\", 3], [\"CWE-760\", 3], [\"CWE-684\", 3], [\"CWE-114\", 3], [\"CWE-183\", 3], [\"CWE-138\", 3], [\"CWE-790\", 3], [\"CWE-599\", 3], [\"CWE-550\", 2], [\"CWE-837\", 2], [\"CWE-402\", 2], [\"CWE-265\", 2], [\"CWE-372\", 2], [\"CWE-544\", 2], [\"CWE-28\", 2], [\"CWE-366\", 2], [\"CWE-1274\", 2], [\"CWE-645\", 2], [\"CWE-612\", 2], [\"CWE-223\", 2], [\"CWE-1004\", 2], [\"CWE-364\", 2], [\"CWE-194\", 2], [\"CWE-1230\", 2], [\"CWE-86\", 2], [\"CWE-25\", 2], [\"CWE-357\", 2], [\"CWE-466\", 2], [\"CWE-453\", 2], [\"CWE-625\", 2], [\"CWE-1332\", 2], [\"CWE-322\", 2], [\"CWE-1326\", 2], [\"CWE-219\", 2], [\"CWE-463\", 2], [\"CWE-650\", 2], [\"CWE-534\", 2], [\"CWE-506\", 2], [\"CWE-334\", 2], [\"CWE-195\", 2], [\"CWE-1269\", 2], [\"CWE-1242\", 2], [\"CWE-419\", 2], [\"CWE-230\", 2], [\"CWE-501\", 2], [\"CWE-762\", 2], [\"CWE-622\", 2], [\"CWE-468\", 2], [\"CWE-616\", 2], [\"CWE-315\", 2], [\"CWE-692\", 2], [\"CWE-708\", 2], [\"CWE-649\", 2], [\"CWE-242\", 2], [\"CWE-363\", 2], [\"CWE-456\", 2], [\"CWE-391\", 2], [\"CWE-1108\", 2], [\"CWE-1077\", 2], [\"CWE-214\", 2], [\"CWE-141\", 2], [\"CWE-539\", 2], [\"CWE-567\", 2], [\"CWE-1022\", 2], [\"CWE-187\", 2], [\"CWE-1289\", 2], [\"CWE-1189\", 2], [\"CWE-1259\", 2], [\"CWE-146\", 2], [\"CWE-1068\", 2], [\"CWE-769\", 2], [\"CWE-943\", 2], [\"CWE-1\", 2], [\"CWE-939\", 2], [\"CWE-260\", 2], [\"CWE-804\", 2], [\"CWE-1049\", 1], [\"CWE-232\", 1], [\"CWE-839\", 1], [\"CWE-836\", 1], [\"CWE-393\", 1], [\"CWE-1282\", 1], [\"CWE-149\", 1], [\"CWE-1076\", 1], [\"CWE-1241\", 1], [\"CWE-1018\", 1], [\"CWE-573\", 1], [\"CWE-64\", 1], [\"CWE-527\", 1], [\"CWE-1103\", 1], [\"CWE-671\", 1], [\"CWE-759\", 1], [\"CWE-1251\", 1], [\"CWE-240\", 1], [\"CWE-597\", 1], [\"CWE-1026\", 1], [\"CWE-562\", 1], [\"CWE-455\", 1], [\"CWE-941\", 1], [\"CWE-337\", 1], [\"CWE-641\", 1], [\"CWE-600\", 1], [\"CWE-571\", 1], [\"CWE-368\", 1], [\"CWE-1245\", 1], [\"CWE-69\", 1], [\"CWE-1304\", 1], [\"CWE-1255\", 1], [\"CWE-491\", 1], [\"CWE-687\", 1], [\"CWE-473\", 1], [\"CWE-1246\", 1], [\"CWE-832\", 1], [\"CWE-447\", 1], [\"CWE-758\", 1], [\"CWE-263\", 1], [\"CWE-710\", 1], [\"CWE-590\", 1], [\"CWE-1329\", 1], [\"CWE-1278\", 1], [\"CWE-167\", 1], [\"CWE-371\", 1], [\"CWE-216\", 1], [\"CWE-646\", 1], [\"CWE-465\", 1], [\"CWE-1279\", 1], [\"CWE-474\", 1], [\"CWE-83\", 1], [\"CWE-127\", 1], [\"CWE-299\", 1], [\"CWE-342\", 1], [\"CWE-764\", 1], [\"CWE-410\", 1], [\"CWE-820\", 1], [\"CWE-292\", 1], [\"CWE-1107\", 1], [\"CWE-895\", 1], [\"CWE-97\", 1], [\"CWE-828\", 1], [\"CWE-1223\", 1], [\"CWE-605\", 1], [\"CWE-1342\", 1], [\"CWE-394\", 1], [\"CWE-1303\", 1], [\"CWE-774\", 1], [\"CWE-628\", 1], [\"CWE-317\", 1], [\"CWE-1314\", 1], [\"CWE-215\", 1], [\"CWE-182\", 1], [\"CWE-507\", 1], [\"CWE-775\", 1], [\"CWE-791\", 1], [\"CWE-475\", 1], [\"CWE-561\", 1], [\"CWE-386\", 1], [\"CWE-1275\", 1], [\"CWE-921\", 1], [\"CWE-482\", 1], [\"CWE-360\", 1], [\"CWE-686\", 1], [\"CWE-570\", 1], [\"CWE-374\", 1], [\"CWE-340\", 1], [\"CWE-96\", 1], [\"CWE-431\", 1], [\"CWE-351\", 1], [\"CWE-1051\", 1], [\"CWE-1050\", 1], [\"CWE-414\", 1], [\"CWE-421\", 1], [\"CWE-356\", 1], [\"CWE-1260\", 1], [\"CWE-1264\", 1], [\"CWE-1055\", 1], [\"CWE-1335\", 1], [\"CWE-67\", 1], [\"CWE-656\", 1], [\"CWE-1298\", 1], [\"CWE-1281\", 1], [\"CWE-1247\", 1], [\"CWE-566\", 1], [\"CWE-57\", 1], [\"CWE-1319\", 1], [\"CWE-786\", 1], [\"CWE-556\", 1], [\"CWE-563\", 1], [\"CWE-1262\", 1], [\"CWE-779\", 1], [\"CWE-1283\", 1], [\"CWE-1104\", 1], [\"CWE-564\", 1], [\"CWE-1299\", 1], [\"CWE-549\", 1], [\"CWE-449\", 1], [\"CWE-1025\", 1], [\"CWE-32\", 1]];\n",
       "\n",
       "        // Define the dt_args\n",
       "        let dt_args = {\"scrollY\": \"400px\", \"scrollCollapse\": true, \"paging\": false, \"dom\": \"tpir\", \"order\": [], \"warn_on_selected_rows_not_rendered\": true};\n",
       "        dt_args[\"data\"] = data;\n",
       "\n",
       "        \n",
       "        new DataTable(table, dt_args);\n",
       "    });\n",
       "</script>\n"
      ],
      "text/plain": [
       "<IPython.core.display.HTML object>"
      ]
     },
     "metadata": {},
     "output_type": "display_data"
    }
   ],
   "source": [
    "show(nvd_cwe, scrollY=\"400px\", scrollCollapse=True, paging=False)"
   ]
  },
  {
   "cell_type": "code",
   "execution_count": 5,
   "id": "20ee3a71",
   "metadata": {
    "execution": {
     "iopub.execute_input": "2024-11-05T04:30:42.113581Z",
     "iopub.status.busy": "2024-11-05T04:30:42.113308Z",
     "iopub.status.idle": "2024-11-05T04:30:42.117143Z",
     "shell.execute_reply": "2024-11-05T04:30:42.116583Z"
    },
    "tags": [
     "remove-input"
    ]
   },
   "outputs": [
    {
     "data": {
      "text/markdown": [
       "This report is updated automatically every day, last generated on: **2024-11-05 04:30:42.114177**"
      ],
      "text/plain": [
       "<IPython.core.display.Markdown object>"
      ]
     },
     "execution_count": 5,
     "metadata": {},
     "output_type": "execute_result"
    }
   ],
   "source": [
    "Markdown(f\"This report is updated automatically every day, last generated on: **{datetime.datetime.now()}**\")"
   ]
  }
 ],
 "metadata": {
  "kernelspec": {
   "display_name": "Python 3 (ipykernel)",
   "language": "python",
   "name": "python3"
  },
  "language_info": {
   "codemirror_mode": {
    "name": "ipython",
    "version": 3
   },
   "file_extension": ".py",
   "mimetype": "text/x-python",
   "name": "python",
   "nbconvert_exporter": "python",
   "pygments_lexer": "ipython3",
   "version": "3.11.10"
  },
  "vscode": {
   "interpreter": {
    "hash": "aee8b7b246df8f9039afb4144a1f6fd8d2ca17a180786b69acc140d282b71a49"
   }
  }
 },
 "nbformat": 4,
 "nbformat_minor": 5
}
